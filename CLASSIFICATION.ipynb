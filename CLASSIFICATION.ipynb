{
 "cells": [
  {
   "cell_type": "code",
   "execution_count": 1,
   "id": "6654839f-a0a5-4185-8143-9dd0a144bf6c",
   "metadata": {},
   "outputs": [
    {
     "data": {
      "text/html": [
       "<div>\n",
       "<style scoped>\n",
       "    .dataframe tbody tr th:only-of-type {\n",
       "        vertical-align: middle;\n",
       "    }\n",
       "\n",
       "    .dataframe tbody tr th {\n",
       "        vertical-align: top;\n",
       "    }\n",
       "\n",
       "    .dataframe thead th {\n",
       "        text-align: right;\n",
       "    }\n",
       "</style>\n",
       "<table border=\"1\" class=\"dataframe\">\n",
       "  <thead>\n",
       "    <tr style=\"text-align: right;\">\n",
       "      <th></th>\n",
       "      <th>Name</th>\n",
       "      <th>Age</th>\n",
       "      <th>Gender</th>\n",
       "      <th>JobRole</th>\n",
       "      <th>Experience</th>\n",
       "      <th>Salary</th>\n",
       "      <th>EducationLevel</th>\n",
       "      <th>Location</th>\n",
       "      <th>Department</th>\n",
       "      <th>PerformanceScore</th>\n",
       "      <th>Promoted</th>\n",
       "    </tr>\n",
       "  </thead>\n",
       "  <tbody>\n",
       "    <tr>\n",
       "      <th>0</th>\n",
       "      <td>Person_0</td>\n",
       "      <td>40.0</td>\n",
       "      <td>Female</td>\n",
       "      <td>Engineer</td>\n",
       "      <td>9</td>\n",
       "      <td>31548.79</td>\n",
       "      <td>Bachelors</td>\n",
       "      <td>Urban</td>\n",
       "      <td>Finance</td>\n",
       "      <td>5</td>\n",
       "      <td>0</td>\n",
       "    </tr>\n",
       "    <tr>\n",
       "      <th>1</th>\n",
       "      <td>Person_1</td>\n",
       "      <td>33.6</td>\n",
       "      <td>Female</td>\n",
       "      <td>Analyst</td>\n",
       "      <td>18</td>\n",
       "      <td>68986.40</td>\n",
       "      <td>High School</td>\n",
       "      <td>Urban</td>\n",
       "      <td>IT</td>\n",
       "      <td>3</td>\n",
       "      <td>1</td>\n",
       "    </tr>\n",
       "    <tr>\n",
       "      <th>2</th>\n",
       "      <td>Person_2</td>\n",
       "      <td>41.5</td>\n",
       "      <td>Female</td>\n",
       "      <td>Manager</td>\n",
       "      <td>0</td>\n",
       "      <td>57478.94</td>\n",
       "      <td>High School</td>\n",
       "      <td>Rural</td>\n",
       "      <td>Finance</td>\n",
       "      <td>4</td>\n",
       "      <td>1</td>\n",
       "    </tr>\n",
       "    <tr>\n",
       "      <th>3</th>\n",
       "      <td>Person_3</td>\n",
       "      <td>50.2</td>\n",
       "      <td>Male</td>\n",
       "      <td>Clerk</td>\n",
       "      <td>4</td>\n",
       "      <td>64277.63</td>\n",
       "      <td>Bachelors</td>\n",
       "      <td>Rural</td>\n",
       "      <td>IT</td>\n",
       "      <td>5</td>\n",
       "      <td>0</td>\n",
       "    </tr>\n",
       "    <tr>\n",
       "      <th>4</th>\n",
       "      <td>Person_4</td>\n",
       "      <td>32.7</td>\n",
       "      <td>Female</td>\n",
       "      <td>Engineer</td>\n",
       "      <td>12</td>\n",
       "      <td>52921.20</td>\n",
       "      <td>PhD</td>\n",
       "      <td>Suburban</td>\n",
       "      <td>Finance</td>\n",
       "      <td>4</td>\n",
       "      <td>1</td>\n",
       "    </tr>\n",
       "  </tbody>\n",
       "</table>\n",
       "</div>"
      ],
      "text/plain": [
       "       Name   Age  Gender   JobRole  Experience    Salary EducationLevel  \\\n",
       "0  Person_0  40.0  Female  Engineer           9  31548.79      Bachelors   \n",
       "1  Person_1  33.6  Female   Analyst          18  68986.40    High School   \n",
       "2  Person_2  41.5  Female   Manager           0  57478.94    High School   \n",
       "3  Person_3  50.2    Male     Clerk           4  64277.63      Bachelors   \n",
       "4  Person_4  32.7  Female  Engineer          12  52921.20            PhD   \n",
       "\n",
       "   Location Department  PerformanceScore  Promoted  \n",
       "0     Urban    Finance                 5         0  \n",
       "1     Urban         IT                 3         1  \n",
       "2     Rural    Finance                 4         1  \n",
       "3     Rural         IT                 5         0  \n",
       "4  Suburban    Finance                 4         1  "
      ]
     },
     "execution_count": 1,
     "metadata": {},
     "output_type": "execute_result"
    }
   ],
   "source": [
    "import pandas as pd\n",
    "import numpy as np\n",
    "import random\n",
    "\n",
    "# Set seed for reproducibility\n",
    "np.random.seed(42)\n",
    "\n",
    "# Number of samples\n",
    "n_samples = 150\n",
    "\n",
    "# Create synthetic dataset\n",
    "df = pd.DataFrame({\n",
    "    'Name': [f'Person_{i}' for i in range(n_samples)],\n",
    "    'Age': np.random.normal(loc=35, scale=10, size=n_samples).round(1),\n",
    "    'Gender': np.random.choice(['Male', 'Female'], size=n_samples),\n",
    "    'JobRole': np.random.choice(['Engineer', 'Manager', 'Clerk', 'Analyst'], size=n_samples),\n",
    "    'Experience': np.random.randint(0, 20, size=n_samples),\n",
    "    'Salary': np.random.normal(loc=60000, scale=15000, size=n_samples).round(2),\n",
    "    'EducationLevel': np.random.choice(['High School', 'Bachelors', 'Masters', 'PhD'], size=n_samples),\n",
    "    'Location': np.random.choice(['Urban', 'Suburban', 'Rural'], size=n_samples),\n",
    "    'Department': np.random.choice(['HR', 'IT', 'Finance', 'Marketing'], size=n_samples),\n",
    "    'PerformanceScore': np.random.randint(1, 6, size=n_samples),\n",
    "    'Promoted': np.random.choice([0, 1], size=n_samples, p=[0.7, 0.3])  # Binary target for classification\n",
    "})\n",
    "\n",
    "# Introduce missing values\n",
    "for col in ['Age', 'Salary', 'EducationLevel']:\n",
    "    df.loc[df.sample(frac=0.1).index, col] = np.nan\n",
    "\n",
    "# Introduce outliers in Salary\n",
    "outlier_indices = np.random.choice(df.index, size=5, replace=False)\n",
    "df.loc[outlier_indices, 'Salary'] *= 4  # Inflate salary to create outliers\n",
    "\n",
    "# Show sample\n",
    "df.head()\n"
   ]
  },
  {
   "cell_type": "code",
   "execution_count": 2,
   "id": "f5d70d80-848d-4429-92bc-c158ff451169",
   "metadata": {},
   "outputs": [
    {
     "data": {
      "text/html": [
       "<div>\n",
       "<style scoped>\n",
       "    .dataframe tbody tr th:only-of-type {\n",
       "        vertical-align: middle;\n",
       "    }\n",
       "\n",
       "    .dataframe tbody tr th {\n",
       "        vertical-align: top;\n",
       "    }\n",
       "\n",
       "    .dataframe thead th {\n",
       "        text-align: right;\n",
       "    }\n",
       "</style>\n",
       "<table border=\"1\" class=\"dataframe\">\n",
       "  <thead>\n",
       "    <tr style=\"text-align: right;\">\n",
       "      <th></th>\n",
       "      <th>Name</th>\n",
       "      <th>Age</th>\n",
       "      <th>Gender</th>\n",
       "      <th>JobRole</th>\n",
       "      <th>Experience</th>\n",
       "      <th>Salary</th>\n",
       "      <th>EducationLevel</th>\n",
       "      <th>Location</th>\n",
       "      <th>Department</th>\n",
       "      <th>PerformanceScore</th>\n",
       "      <th>Promoted</th>\n",
       "    </tr>\n",
       "  </thead>\n",
       "  <tbody>\n",
       "    <tr>\n",
       "      <th>0</th>\n",
       "      <td>Person_0</td>\n",
       "      <td>40.0</td>\n",
       "      <td>Female</td>\n",
       "      <td>Engineer</td>\n",
       "      <td>9</td>\n",
       "      <td>31548.79</td>\n",
       "      <td>Bachelors</td>\n",
       "      <td>Urban</td>\n",
       "      <td>Finance</td>\n",
       "      <td>5</td>\n",
       "      <td>0</td>\n",
       "    </tr>\n",
       "    <tr>\n",
       "      <th>1</th>\n",
       "      <td>Person_1</td>\n",
       "      <td>33.6</td>\n",
       "      <td>Female</td>\n",
       "      <td>Analyst</td>\n",
       "      <td>18</td>\n",
       "      <td>68986.40</td>\n",
       "      <td>High School</td>\n",
       "      <td>Urban</td>\n",
       "      <td>IT</td>\n",
       "      <td>3</td>\n",
       "      <td>1</td>\n",
       "    </tr>\n",
       "    <tr>\n",
       "      <th>2</th>\n",
       "      <td>Person_2</td>\n",
       "      <td>41.5</td>\n",
       "      <td>Female</td>\n",
       "      <td>Manager</td>\n",
       "      <td>0</td>\n",
       "      <td>57478.94</td>\n",
       "      <td>High School</td>\n",
       "      <td>Rural</td>\n",
       "      <td>Finance</td>\n",
       "      <td>4</td>\n",
       "      <td>1</td>\n",
       "    </tr>\n",
       "    <tr>\n",
       "      <th>3</th>\n",
       "      <td>Person_3</td>\n",
       "      <td>50.2</td>\n",
       "      <td>Male</td>\n",
       "      <td>Clerk</td>\n",
       "      <td>4</td>\n",
       "      <td>64277.63</td>\n",
       "      <td>Bachelors</td>\n",
       "      <td>Rural</td>\n",
       "      <td>IT</td>\n",
       "      <td>5</td>\n",
       "      <td>0</td>\n",
       "    </tr>\n",
       "    <tr>\n",
       "      <th>4</th>\n",
       "      <td>Person_4</td>\n",
       "      <td>32.7</td>\n",
       "      <td>Female</td>\n",
       "      <td>Engineer</td>\n",
       "      <td>12</td>\n",
       "      <td>52921.20</td>\n",
       "      <td>PhD</td>\n",
       "      <td>Suburban</td>\n",
       "      <td>Finance</td>\n",
       "      <td>4</td>\n",
       "      <td>1</td>\n",
       "    </tr>\n",
       "    <tr>\n",
       "      <th>...</th>\n",
       "      <td>...</td>\n",
       "      <td>...</td>\n",
       "      <td>...</td>\n",
       "      <td>...</td>\n",
       "      <td>...</td>\n",
       "      <td>...</td>\n",
       "      <td>...</td>\n",
       "      <td>...</td>\n",
       "      <td>...</td>\n",
       "      <td>...</td>\n",
       "      <td>...</td>\n",
       "    </tr>\n",
       "    <tr>\n",
       "      <th>145</th>\n",
       "      <td>Person_145</td>\n",
       "      <td>42.8</td>\n",
       "      <td>Female</td>\n",
       "      <td>Manager</td>\n",
       "      <td>12</td>\n",
       "      <td>50639.75</td>\n",
       "      <td>Bachelors</td>\n",
       "      <td>Urban</td>\n",
       "      <td>Finance</td>\n",
       "      <td>5</td>\n",
       "      <td>1</td>\n",
       "    </tr>\n",
       "    <tr>\n",
       "      <th>146</th>\n",
       "      <td>Person_146</td>\n",
       "      <td>22.6</td>\n",
       "      <td>Male</td>\n",
       "      <td>Engineer</td>\n",
       "      <td>16</td>\n",
       "      <td>66023.41</td>\n",
       "      <td>PhD</td>\n",
       "      <td>Suburban</td>\n",
       "      <td>HR</td>\n",
       "      <td>1</td>\n",
       "      <td>0</td>\n",
       "    </tr>\n",
       "    <tr>\n",
       "      <th>147</th>\n",
       "      <td>Person_147</td>\n",
       "      <td>NaN</td>\n",
       "      <td>Female</td>\n",
       "      <td>Analyst</td>\n",
       "      <td>0</td>\n",
       "      <td>84704.24</td>\n",
       "      <td>Bachelors</td>\n",
       "      <td>Rural</td>\n",
       "      <td>Finance</td>\n",
       "      <td>2</td>\n",
       "      <td>1</td>\n",
       "    </tr>\n",
       "    <tr>\n",
       "      <th>148</th>\n",
       "      <td>Person_148</td>\n",
       "      <td>40.2</td>\n",
       "      <td>Male</td>\n",
       "      <td>Manager</td>\n",
       "      <td>5</td>\n",
       "      <td>NaN</td>\n",
       "      <td>Masters</td>\n",
       "      <td>Suburban</td>\n",
       "      <td>HR</td>\n",
       "      <td>1</td>\n",
       "      <td>1</td>\n",
       "    </tr>\n",
       "    <tr>\n",
       "      <th>149</th>\n",
       "      <td>Person_149</td>\n",
       "      <td>NaN</td>\n",
       "      <td>Female</td>\n",
       "      <td>Analyst</td>\n",
       "      <td>5</td>\n",
       "      <td>89792.05</td>\n",
       "      <td>High School</td>\n",
       "      <td>Suburban</td>\n",
       "      <td>Finance</td>\n",
       "      <td>4</td>\n",
       "      <td>0</td>\n",
       "    </tr>\n",
       "  </tbody>\n",
       "</table>\n",
       "<p>150 rows × 11 columns</p>\n",
       "</div>"
      ],
      "text/plain": [
       "           Name   Age  Gender   JobRole  Experience    Salary EducationLevel  \\\n",
       "0      Person_0  40.0  Female  Engineer           9  31548.79      Bachelors   \n",
       "1      Person_1  33.6  Female   Analyst          18  68986.40    High School   \n",
       "2      Person_2  41.5  Female   Manager           0  57478.94    High School   \n",
       "3      Person_3  50.2    Male     Clerk           4  64277.63      Bachelors   \n",
       "4      Person_4  32.7  Female  Engineer          12  52921.20            PhD   \n",
       "..          ...   ...     ...       ...         ...       ...            ...   \n",
       "145  Person_145  42.8  Female   Manager          12  50639.75      Bachelors   \n",
       "146  Person_146  22.6    Male  Engineer          16  66023.41            PhD   \n",
       "147  Person_147   NaN  Female   Analyst           0  84704.24      Bachelors   \n",
       "148  Person_148  40.2    Male   Manager           5       NaN        Masters   \n",
       "149  Person_149   NaN  Female   Analyst           5  89792.05    High School   \n",
       "\n",
       "     Location Department  PerformanceScore  Promoted  \n",
       "0       Urban    Finance                 5         0  \n",
       "1       Urban         IT                 3         1  \n",
       "2       Rural    Finance                 4         1  \n",
       "3       Rural         IT                 5         0  \n",
       "4    Suburban    Finance                 4         1  \n",
       "..        ...        ...               ...       ...  \n",
       "145     Urban    Finance                 5         1  \n",
       "146  Suburban         HR                 1         0  \n",
       "147     Rural    Finance                 2         1  \n",
       "148  Suburban         HR                 1         1  \n",
       "149  Suburban    Finance                 4         0  \n",
       "\n",
       "[150 rows x 11 columns]"
      ]
     },
     "execution_count": 2,
     "metadata": {},
     "output_type": "execute_result"
    }
   ],
   "source": [
    "df"
   ]
  },
  {
   "cell_type": "markdown",
   "id": "f263a40b-e610-43f2-84bf-d2fcfadb33c9",
   "metadata": {},
   "source": [
    "## Initial Exploration"
   ]
  },
  {
   "cell_type": "markdown",
   "id": "2ca5d17f-86eb-4465-98c1-c0470748d234",
   "metadata": {},
   "source": [
    "### Unique values"
   ]
  },
  {
   "cell_type": "code",
   "execution_count": 5,
   "id": "dae26d9d-a6a2-42f7-b256-d1d97f1d512d",
   "metadata": {},
   "outputs": [
    {
     "data": {
      "text/plain": [
       "array(['Female', 'Male'], dtype=object)"
      ]
     },
     "execution_count": 5,
     "metadata": {},
     "output_type": "execute_result"
    }
   ],
   "source": [
    "df['Gender'].unique()"
   ]
  },
  {
   "cell_type": "code",
   "execution_count": 6,
   "id": "28e8fe68-6c8f-4bc1-b1e1-8bd5da665826",
   "metadata": {},
   "outputs": [
    {
     "name": "stdout",
     "output_type": "stream",
     "text": [
      "Name:  ['Person_0' 'Person_1' 'Person_2' 'Person_3' 'Person_4' 'Person_5'\n",
      " 'Person_6' 'Person_7' 'Person_8' 'Person_9' 'Person_10' 'Person_11'\n",
      " 'Person_12' 'Person_13' 'Person_14' 'Person_15' 'Person_16' 'Person_17'\n",
      " 'Person_18' 'Person_19' 'Person_20' 'Person_21' 'Person_22' 'Person_23'\n",
      " 'Person_24' 'Person_25' 'Person_26' 'Person_27' 'Person_28' 'Person_29'\n",
      " 'Person_30' 'Person_31' 'Person_32' 'Person_33' 'Person_34' 'Person_35'\n",
      " 'Person_36' 'Person_37' 'Person_38' 'Person_39' 'Person_40' 'Person_41'\n",
      " 'Person_42' 'Person_43' 'Person_44' 'Person_45' 'Person_46' 'Person_47'\n",
      " 'Person_48' 'Person_49' 'Person_50' 'Person_51' 'Person_52' 'Person_53'\n",
      " 'Person_54' 'Person_55' 'Person_56' 'Person_57' 'Person_58' 'Person_59'\n",
      " 'Person_60' 'Person_61' 'Person_62' 'Person_63' 'Person_64' 'Person_65'\n",
      " 'Person_66' 'Person_67' 'Person_68' 'Person_69' 'Person_70' 'Person_71'\n",
      " 'Person_72' 'Person_73' 'Person_74' 'Person_75' 'Person_76' 'Person_77'\n",
      " 'Person_78' 'Person_79' 'Person_80' 'Person_81' 'Person_82' 'Person_83'\n",
      " 'Person_84' 'Person_85' 'Person_86' 'Person_87' 'Person_88' 'Person_89'\n",
      " 'Person_90' 'Person_91' 'Person_92' 'Person_93' 'Person_94' 'Person_95'\n",
      " 'Person_96' 'Person_97' 'Person_98' 'Person_99' 'Person_100' 'Person_101'\n",
      " 'Person_102' 'Person_103' 'Person_104' 'Person_105' 'Person_106'\n",
      " 'Person_107' 'Person_108' 'Person_109' 'Person_110' 'Person_111'\n",
      " 'Person_112' 'Person_113' 'Person_114' 'Person_115' 'Person_116'\n",
      " 'Person_117' 'Person_118' 'Person_119' 'Person_120' 'Person_121'\n",
      " 'Person_122' 'Person_123' 'Person_124' 'Person_125' 'Person_126'\n",
      " 'Person_127' 'Person_128' 'Person_129' 'Person_130' 'Person_131'\n",
      " 'Person_132' 'Person_133' 'Person_134' 'Person_135' 'Person_136'\n",
      " 'Person_137' 'Person_138' 'Person_139' 'Person_140' 'Person_141'\n",
      " 'Person_142' 'Person_143' 'Person_144' 'Person_145' 'Person_146'\n",
      " 'Person_147' 'Person_148' 'Person_149']\n",
      "Age:  [40.  33.6 41.5 50.2 32.7 50.8 42.7 30.3 40.4 30.4 37.4 15.9 17.8 29.4\n",
      " 24.9 38.1 25.9 20.9 49.7 35.7 20.8 29.6 36.1 23.5  nan 29.  53.5 34.9\n",
      " 24.4 43.2 22.8 37.1 15.4 21.7 37.  42.4 36.7 33.8 32.  20.2 27.8 45.6\n",
      " 38.4 17.4 38.2 31.1 45.3 44.3 26.6 31.9 38.3 44.8 30.2 23.9 23.  43.1\n",
      " 48.6 34.3 45.  38.6 28.5 34.6 50.6  8.8 35.9 15.1 32.8 49.8 29.8 26.9\n",
      " 44.2 29.7 40.1 36.  44.7 28.  31.7 20.4 38.  37.6 35.1 30.8 31.6 27.\n",
      " 33.4 39.  53.9 34.7 35.6 59.6 33.1 46.4 42.5 42.9 49.  21.  56.9 25.1\n",
      " 29.3 19.5 39.7 25.8 27.2 31.8 22.7 37.3 48.1 18.9 36.8 42.8 22.6 40.2]\n",
      "Gender:  ['Female' 'Male']\n",
      "JobRole:  ['Engineer' 'Analyst' 'Manager' 'Clerk']\n",
      "Experience:  [ 9 18  0  4 12  3 15  1 16 19 11 17  2 10  7 13  8  6 14  5]\n",
      "Salary:  [ 31548.79  68986.4   57478.94  64277.63  52921.2   63258.1   52921.84\n",
      "  51657.28  46541.46  82887.45  65503.64  63142.45  46866.57  56477.27\n",
      "  45191.56  52632.55       nan  83837.16  48646.41  46873.82  40115.85\n",
      "  48431.92  52576.6   59257.81  50320.17  35990.83  70194.9   69733.4\n",
      "  71704.13 249064.8   41524.04  62843.77  80993.95  53288.58  65109.23\n",
      "  59793.33  80585.67  77302.98  54374.84  49587.81  61647.9   65136.85\n",
      "  88672.94  83942.14  69015.81  50335.87  80339.56  48905.72  50261.29\n",
      "  47272.19  45956.32  64997.6  224525.88   7827.46  55976.05  52231.32\n",
      "  73392.38  51551.12 392355.48  80951.9   77244.35  67878.18  63501.99\n",
      "  72039.78  63605.27  72350.29  90786.79  63767.92  53193.05  29561.54\n",
      "  89419.55  56051.37  68022.14  88588.61  63414.03  57079.95 325180.36\n",
      "  66911.06  68791.58  37152.59  78088.73  65633.82  39426.16  67276.41\n",
      "  29062.11  95129.63  43472.18  84176.89  47805.67  68403.39  46318.08\n",
      "  74956.73  56470.22  67016.69  60225.97  39515.03  67561.6   52451.44\n",
      "  75679.69  56462.1   58848.54  85243.9   95724.55  71790.51  55692.9\n",
      "  54380.08  47719.85  50621.43  55895.85  41609.2   60624.98  62671.93\n",
      "  60534.53  71995.37  61035.08  71530.91  48294.85  86710.94  63787.2\n",
      "  67077.4   69765.98  42453.47  35113.63  52668.45  63898.82  40634.46\n",
      "  36592.41  54753.24  28339.51  80146.48  40385.14  98599.87  50639.75\n",
      "  66023.41  84704.24  89792.05]\n",
      "EducationLevel:  ['Bachelors' 'High School' 'PhD' nan 'Masters']\n",
      "Location:  ['Urban' 'Rural' 'Suburban']\n",
      "Department:  ['Finance' 'IT' 'HR' 'Marketing']\n",
      "PerformanceScore:  [5 3 4 2 1]\n",
      "Promoted:  [0 1]\n"
     ]
    }
   ],
   "source": [
    "for i in df.columns:\n",
    "    print(f\"{i}: \",df[i].unique())"
   ]
  },
  {
   "cell_type": "code",
   "execution_count": 7,
   "id": "35ecb7ec-e34e-4409-ae57-feb6e7a8c8d1",
   "metadata": {},
   "outputs": [
    {
     "name": "stdout",
     "output_type": "stream",
     "text": [
      "Name:  150\n",
      "Age:  111\n",
      "Gender:  2\n",
      "JobRole:  4\n",
      "Experience:  20\n",
      "Salary:  135\n",
      "EducationLevel:  4\n",
      "Location:  3\n",
      "Department:  4\n",
      "PerformanceScore:  5\n",
      "Promoted:  2\n"
     ]
    }
   ],
   "source": [
    "for i in df.columns:\n",
    "    print(f\"{i}: \",df[i].nunique())"
   ]
  },
  {
   "cell_type": "code",
   "execution_count": 8,
   "id": "71b963ef-2f6b-487c-899e-55d8570b569d",
   "metadata": {},
   "outputs": [
    {
     "data": {
      "text/plain": [
       "(150, 11)"
      ]
     },
     "execution_count": 8,
     "metadata": {},
     "output_type": "execute_result"
    }
   ],
   "source": [
    "df.shape"
   ]
  },
  {
   "cell_type": "code",
   "execution_count": 9,
   "id": "fda9977c-129b-421a-bde0-895e5c63d353",
   "metadata": {},
   "outputs": [
    {
     "data": {
      "text/plain": [
       "Name                 object\n",
       "Age                 float64\n",
       "Gender               object\n",
       "JobRole              object\n",
       "Experience            int32\n",
       "Salary              float64\n",
       "EducationLevel       object\n",
       "Location             object\n",
       "Department           object\n",
       "PerformanceScore      int32\n",
       "Promoted              int32\n",
       "dtype: object"
      ]
     },
     "execution_count": 9,
     "metadata": {},
     "output_type": "execute_result"
    }
   ],
   "source": [
    "df.dtypes"
   ]
  },
  {
   "cell_type": "code",
   "execution_count": 10,
   "id": "32a653a8-3ab9-4987-befd-024dfcfd1547",
   "metadata": {},
   "outputs": [
    {
     "data": {
      "text/plain": [
       "Name                 0\n",
       "Age                 15\n",
       "Gender               0\n",
       "JobRole              0\n",
       "Experience           0\n",
       "Salary              15\n",
       "EducationLevel      15\n",
       "Location             0\n",
       "Department           0\n",
       "PerformanceScore     0\n",
       "Promoted             0\n",
       "dtype: int64"
      ]
     },
     "execution_count": 10,
     "metadata": {},
     "output_type": "execute_result"
    }
   ],
   "source": [
    "df.isnull().sum()"
   ]
  },
  {
   "cell_type": "code",
   "execution_count": 11,
   "id": "6ea2f990-a215-4ba5-9837-04b70d4b4d0a",
   "metadata": {},
   "outputs": [
    {
     "data": {
      "text/html": [
       "<div>\n",
       "<style scoped>\n",
       "    .dataframe tbody tr th:only-of-type {\n",
       "        vertical-align: middle;\n",
       "    }\n",
       "\n",
       "    .dataframe tbody tr th {\n",
       "        vertical-align: top;\n",
       "    }\n",
       "\n",
       "    .dataframe thead th {\n",
       "        text-align: right;\n",
       "    }\n",
       "</style>\n",
       "<table border=\"1\" class=\"dataframe\">\n",
       "  <thead>\n",
       "    <tr style=\"text-align: right;\">\n",
       "      <th></th>\n",
       "      <th>Age</th>\n",
       "      <th>Experience</th>\n",
       "      <th>Salary</th>\n",
       "      <th>PerformanceScore</th>\n",
       "      <th>Promoted</th>\n",
       "    </tr>\n",
       "  </thead>\n",
       "  <tbody>\n",
       "    <tr>\n",
       "      <th>count</th>\n",
       "      <td>135.000000</td>\n",
       "      <td>150.000000</td>\n",
       "      <td>135.000000</td>\n",
       "      <td>150.000000</td>\n",
       "      <td>150.000000</td>\n",
       "    </tr>\n",
       "    <tr>\n",
       "      <th>mean</th>\n",
       "      <td>34.197037</td>\n",
       "      <td>9.520000</td>\n",
       "      <td>67746.035259</td>\n",
       "      <td>2.920000</td>\n",
       "      <td>0.366667</td>\n",
       "    </tr>\n",
       "    <tr>\n",
       "      <th>std</th>\n",
       "      <td>9.415951</td>\n",
       "      <td>5.790202</td>\n",
       "      <td>44833.202688</td>\n",
       "      <td>1.430821</td>\n",
       "      <td>0.483509</td>\n",
       "    </tr>\n",
       "    <tr>\n",
       "      <th>min</th>\n",
       "      <td>8.800000</td>\n",
       "      <td>0.000000</td>\n",
       "      <td>7827.460000</td>\n",
       "      <td>1.000000</td>\n",
       "      <td>0.000000</td>\n",
       "    </tr>\n",
       "    <tr>\n",
       "      <th>25%</th>\n",
       "      <td>28.250000</td>\n",
       "      <td>4.000000</td>\n",
       "      <td>50328.020000</td>\n",
       "      <td>2.000000</td>\n",
       "      <td>0.000000</td>\n",
       "    </tr>\n",
       "    <tr>\n",
       "      <th>50%</th>\n",
       "      <td>34.600000</td>\n",
       "      <td>9.500000</td>\n",
       "      <td>61647.900000</td>\n",
       "      <td>3.000000</td>\n",
       "      <td>0.000000</td>\n",
       "    </tr>\n",
       "    <tr>\n",
       "      <th>75%</th>\n",
       "      <td>39.850000</td>\n",
       "      <td>15.000000</td>\n",
       "      <td>71747.320000</td>\n",
       "      <td>4.000000</td>\n",
       "      <td>1.000000</td>\n",
       "    </tr>\n",
       "    <tr>\n",
       "      <th>max</th>\n",
       "      <td>59.600000</td>\n",
       "      <td>19.000000</td>\n",
       "      <td>392355.480000</td>\n",
       "      <td>5.000000</td>\n",
       "      <td>1.000000</td>\n",
       "    </tr>\n",
       "  </tbody>\n",
       "</table>\n",
       "</div>"
      ],
      "text/plain": [
       "              Age  Experience         Salary  PerformanceScore    Promoted\n",
       "count  135.000000  150.000000     135.000000        150.000000  150.000000\n",
       "mean    34.197037    9.520000   67746.035259          2.920000    0.366667\n",
       "std      9.415951    5.790202   44833.202688          1.430821    0.483509\n",
       "min      8.800000    0.000000    7827.460000          1.000000    0.000000\n",
       "25%     28.250000    4.000000   50328.020000          2.000000    0.000000\n",
       "50%     34.600000    9.500000   61647.900000          3.000000    0.000000\n",
       "75%     39.850000   15.000000   71747.320000          4.000000    1.000000\n",
       "max     59.600000   19.000000  392355.480000          5.000000    1.000000"
      ]
     },
     "execution_count": 11,
     "metadata": {},
     "output_type": "execute_result"
    }
   ],
   "source": [
    "df.describe()"
   ]
  },
  {
   "cell_type": "code",
   "execution_count": 12,
   "id": "18c73710-5ac1-43ba-9806-4d331cf183db",
   "metadata": {},
   "outputs": [
    {
     "data": {
      "text/plain": [
       "<Axes: >"
      ]
     },
     "execution_count": 12,
     "metadata": {},
     "output_type": "execute_result"
    },
    {
     "data": {
      "image/png": "[encoded data removed]",
      "text/plain": [
       "<Figure size 640x480 with 1 Axes>"
      ]
     },
     "metadata": {},
     "output_type": "display_data"
    }
   ],
   "source": [
    "import seaborn as sns\n",
    "sns.boxplot(df[['Salary','JobRole']])"
   ]
  },
  {
   "cell_type": "markdown",
   "id": "b1fc9618-a462-436d-91fb-4ced710412b3",
   "metadata": {},
   "source": [
    "## Data Cleaning"
   ]
  },
  {
   "cell_type": "markdown",
   "id": "5e849491-7bf6-4cdc-97bf-34f67f34b59f",
   "metadata": {},
   "source": [
    "### Handle the null values\n",
    "\n",
    "#### Impute the missing values based on the measures of central tendencies."
   ]
  },
  {
   "cell_type": "code",
   "execution_count": 15,
   "id": "4f5be604-02b3-4977-91cc-56af2aa46c3f",
   "metadata": {},
   "outputs": [],
   "source": [
    "import seaborn as sns"
   ]
  },
  {
   "cell_type": "code",
   "execution_count": 16,
   "id": "c1a8e2d1-63de-4729-8e7b-d0e33f46da9b",
   "metadata": {},
   "outputs": [
    {
     "name": "stderr",
     "output_type": "stream",
     "text": [
      "D:\\Applications\\Lib\\site-packages\\seaborn\\_oldcore.py:1119: FutureWarning: use_inf_as_na option is deprecated and will be removed in a future version. Convert inf values to NaN before operating instead.\n",
      "  with pd.option_context('mode.use_inf_as_na', True):\n"
     ]
    },
    {
     "data": {
      "text/plain": [
       "<Axes: xlabel='Age', ylabel='Count'>"
      ]
     },
     "execution_count": 16,
     "metadata": {},
     "output_type": "execute_result"
    },
    {
     "data": {
      "image/png": "[encoded data removed]",
      "text/plain": [
       "<Figure size 640x480 with 1 Axes>"
      ]
     },
     "metadata": {},
     "output_type": "display_data"
    }
   ],
   "source": [
    "sns.histplot(df['Age'], kde=True)"
   ]
  },
  {
   "cell_type": "markdown",
   "id": "696041bc-5416-4c60-b222-8e6f2b51a69b",
   "metadata": {},
   "source": [
    "#### bell Shaped so fill with MEAN."
   ]
  },
  {
   "cell_type": "code",
   "execution_count": 18,
   "id": "73e6703a-2f91-4419-9611-fbb4f22e8040",
   "metadata": {},
   "outputs": [],
   "source": [
    "df['Age'].fillna(df['Age'].mean(), inplace=True)"
   ]
  },
  {
   "cell_type": "markdown",
   "id": "80df88d6-9fe8-4d18-838c-8d1a99b849af",
   "metadata": {},
   "source": [
    "#### After Imputing"
   ]
  },
  {
   "cell_type": "code",
   "execution_count": 20,
   "id": "3d5401dc-3dbd-483d-ae63-f12b886ad3c0",
   "metadata": {},
   "outputs": [
    {
     "name": "stderr",
     "output_type": "stream",
     "text": [
      "D:\\Applications\\Lib\\site-packages\\seaborn\\_oldcore.py:1119: FutureWarning: use_inf_as_na option is deprecated and will be removed in a future version. Convert inf values to NaN before operating instead.\n",
      "  with pd.option_context('mode.use_inf_as_na', True):\n"
     ]
    },
    {
     "data": {
      "text/plain": [
       "<Axes: xlabel='Age', ylabel='Count'>"
      ]
     },
     "execution_count": 20,
     "metadata": {},
     "output_type": "execute_result"
    },
    {
     "data": {
      "image/png": "[encoded data removed]",
      "text/plain": [
       "<Figure size 640x480 with 1 Axes>"
      ]
     },
     "metadata": {},
     "output_type": "display_data"
    }
   ],
   "source": [
    "sns.histplot(df['Age'], kde=True)"
   ]
  },
  {
   "cell_type": "markdown",
   "id": "b5678ba6-1879-4d79-b26a-4f9383a5768d",
   "metadata": {},
   "source": [
    "### Fill Salary"
   ]
  },
  {
   "cell_type": "code",
   "execution_count": 22,
   "id": "f7b92863-7903-461e-868c-56c13974e05d",
   "metadata": {},
   "outputs": [
    {
     "name": "stderr",
     "output_type": "stream",
     "text": [
      "D:\\Applications\\Lib\\site-packages\\seaborn\\_oldcore.py:1119: FutureWarning: use_inf_as_na option is deprecated and will be removed in a future version. Convert inf values to NaN before operating instead.\n",
      "  with pd.option_context('mode.use_inf_as_na', True):\n"
     ]
    },
    {
     "data": {
      "text/plain": [
       "<Axes: xlabel='Salary', ylabel='Count'>"
      ]
     },
     "execution_count": 22,
     "metadata": {},
     "output_type": "execute_result"
    },
    {
     "data": {
      "image/png": "[encoded data removed]",
      "text/plain": [
       "<Figure size 640x480 with 1 Axes>"
      ]
     },
     "metadata": {},
     "output_type": "display_data"
    }
   ],
   "source": [
    "sns.histplot(df['Salary'], kde=True)"
   ]
  },
  {
   "cell_type": "markdown",
   "id": "8351c653-00df-424b-9971-4a2886eb53d8",
   "metadata": {},
   "source": [
    "#### 'Left Skewed' with outliers, so fill with MEDIAN (vise versa for 'Right skewed')"
   ]
  },
  {
   "cell_type": "code",
   "execution_count": 24,
   "id": "ffc21e0f-f501-4cca-b3a4-8428bcea3c8e",
   "metadata": {},
   "outputs": [],
   "source": [
    "df['Salary'].fillna(df['Salary'].median(), inplace=True)"
   ]
  },
  {
   "cell_type": "markdown",
   "id": "08e7252d-e64f-4cd4-aab1-4ad8123dae3e",
   "metadata": {},
   "source": [
    "#### After Imputing "
   ]
  },
  {
   "cell_type": "code",
   "execution_count": 26,
   "id": "9c66cc2e-17f5-461a-9c47-691d416df50b",
   "metadata": {},
   "outputs": [
    {
     "name": "stderr",
     "output_type": "stream",
     "text": [
      "D:\\Applications\\Lib\\site-packages\\seaborn\\_oldcore.py:1119: FutureWarning: use_inf_as_na option is deprecated and will be removed in a future version. Convert inf values to NaN before operating instead.\n",
      "  with pd.option_context('mode.use_inf_as_na', True):\n"
     ]
    },
    {
     "data": {
      "text/plain": [
       "<Axes: xlabel='Salary', ylabel='Count'>"
      ]
     },
     "execution_count": 26,
     "metadata": {},
     "output_type": "execute_result"
    },
    {
     "data": {
      "image/png": "[encoded data removed]",
      "text/plain": [
       "<Figure size 640x480 with 1 Axes>"
      ]
     },
     "metadata": {},
     "output_type": "display_data"
    }
   ],
   "source": [
    "sns.histplot(df['Salary'], kde=True)"
   ]
  },
  {
   "cell_type": "markdown",
   "id": "65247c23-72c1-44d6-a9bd-3c08ba8ff501",
   "metadata": {},
   "source": [
    "### Fill Education Level"
   ]
  },
  {
   "cell_type": "code",
   "execution_count": 28,
   "id": "c87d2431-80d4-4524-92fc-d0b088267754",
   "metadata": {},
   "outputs": [
    {
     "name": "stderr",
     "output_type": "stream",
     "text": [
      "D:\\Applications\\Lib\\site-packages\\seaborn\\_oldcore.py:1119: FutureWarning: use_inf_as_na option is deprecated and will be removed in a future version. Convert inf values to NaN before operating instead.\n",
      "  with pd.option_context('mode.use_inf_as_na', True):\n"
     ]
    },
    {
     "data": {
      "text/plain": [
       "<Axes: xlabel='EducationLevel', ylabel='Count'>"
      ]
     },
     "execution_count": 28,
     "metadata": {},
     "output_type": "execute_result"
    },
    {
     "data": {
      "image/png": "[encoded data removed]",
      "text/plain": [
       "<Figure size 640x480 with 1 Axes>"
      ]
     },
     "metadata": {},
     "output_type": "display_data"
    }
   ],
   "source": [
    "sns.histplot(df['EducationLevel'], kde=True)"
   ]
  },
  {
   "cell_type": "markdown",
   "id": "7aa319ac-1c43-420f-8e29-dbfd08a8a922",
   "metadata": {},
   "source": [
    "#### Here also no Bell shape. But it is a categorical value, so fill either with \"Unknown\" or mode - highest one."
   ]
  },
  {
   "cell_type": "code",
   "execution_count": 30,
   "id": "c472c6ea-a89e-45cf-a698-5d269cc730b2",
   "metadata": {},
   "outputs": [],
   "source": [
    "df['EducationLevel'].fillna(df['EducationLevel'].mode()[0], inplace=True)"
   ]
  },
  {
   "cell_type": "code",
   "execution_count": 31,
   "id": "cbe292bb-0501-4a71-8a15-695bf9f775dc",
   "metadata": {},
   "outputs": [
    {
     "data": {
      "text/plain": [
       "Name                0\n",
       "Age                 0\n",
       "Gender              0\n",
       "JobRole             0\n",
       "Experience          0\n",
       "Salary              0\n",
       "EducationLevel      0\n",
       "Location            0\n",
       "Department          0\n",
       "PerformanceScore    0\n",
       "Promoted            0\n",
       "dtype: int64"
      ]
     },
     "execution_count": 31,
     "metadata": {},
     "output_type": "execute_result"
    }
   ],
   "source": [
    "df.isnull().sum()"
   ]
  },
  {
   "cell_type": "markdown",
   "id": "e0c998b1-210f-481e-bcab-7889576ad61d",
   "metadata": {},
   "source": [
    "### Outlier Removal"
   ]
  },
  {
   "cell_type": "markdown",
   "id": "5cad8748-6f38-43ba-afe0-e313965eeb0e",
   "metadata": {},
   "source": [
    "#### Manual Method"
   ]
  },
  {
   "cell_type": "code",
   "execution_count": 34,
   "id": "bf1dfab5-eefd-4354-96eb-17a4c65da294",
   "metadata": {},
   "outputs": [],
   "source": [
    "import matplotlib.pyplot as plt"
   ]
  },
  {
   "cell_type": "code",
   "execution_count": 35,
   "id": "86fb98d4-5ff7-4eaf-b34f-3ed746156d99",
   "metadata": {},
   "outputs": [
    {
     "data": {
      "image/png": "[encoded data removed]",
      "text/plain": [
       "<Figure size 640x480 with 1 Axes>"
      ]
     },
     "metadata": {},
     "output_type": "display_data"
    }
   ],
   "source": [
    "sns.boxplot(x=df['Salary'])\n",
    "plt.title(\"Outliers before\")\n",
    "plt.show()"
   ]
  },
  {
   "cell_type": "code",
   "execution_count": 36,
   "id": "be80092a-8391-42e2-b02f-4cc7fed4c0dc",
   "metadata": {},
   "outputs": [],
   "source": [
    "Q1 = df['Salary'].quantile(0.25)\n",
    "Q3 = df['Salary'].quantile(0.75)\n",
    "IQR = Q3 - Q1\n",
    "lower = Q1 - 1.5*IQR\n",
    "upper = Q3 + 1.5*IQR\n",
    "\n",
    "df_salary = df[(df['Salary'] >= lower)&(df['Salary'] <= upper)]"
   ]
  },
  {
   "cell_type": "code",
   "execution_count": 37,
   "id": "850f7761-8e27-4dc3-ba7b-7d34f794c231",
   "metadata": {},
   "outputs": [
    {
     "data": {
      "image/png": "[encoded data removed]",
      "text/plain": [
       "<Figure size 640x480 with 1 Axes>"
      ]
     },
     "metadata": {},
     "output_type": "display_data"
    }
   ],
   "source": [
    "sns.boxplot(x=df_salary['Salary'])\n",
    "plt.title(\"Outliers After\")\n",
    "plt.show()"
   ]
  },
  {
   "cell_type": "markdown",
   "id": "4779a3b3-f3bc-4b9b-8416-9f9ca862eaeb",
   "metadata": {},
   "source": [
    "#### Automatic"
   ]
  },
  {
   "cell_type": "code",
   "execution_count": 39,
   "id": "9ed12012-e04d-4389-b4ad-bc723b71b967",
   "metadata": {},
   "outputs": [
    {
     "data": {
      "text/html": [
       "<div>\n",
       "<style scoped>\n",
       "    .dataframe tbody tr th:only-of-type {\n",
       "        vertical-align: middle;\n",
       "    }\n",
       "\n",
       "    .dataframe tbody tr th {\n",
       "        vertical-align: top;\n",
       "    }\n",
       "\n",
       "    .dataframe thead th {\n",
       "        text-align: right;\n",
       "    }\n",
       "</style>\n",
       "<table border=\"1\" class=\"dataframe\">\n",
       "  <thead>\n",
       "    <tr style=\"text-align: right;\">\n",
       "      <th></th>\n",
       "      <th>Name</th>\n",
       "      <th>Age</th>\n",
       "      <th>Gender</th>\n",
       "      <th>JobRole</th>\n",
       "      <th>Experience</th>\n",
       "      <th>Salary</th>\n",
       "      <th>EducationLevel</th>\n",
       "      <th>Location</th>\n",
       "      <th>Department</th>\n",
       "      <th>PerformanceScore</th>\n",
       "      <th>Promoted</th>\n",
       "    </tr>\n",
       "  </thead>\n",
       "  <tbody>\n",
       "    <tr>\n",
       "      <th>0</th>\n",
       "      <td>Person_0</td>\n",
       "      <td>40.0</td>\n",
       "      <td>Female</td>\n",
       "      <td>Engineer</td>\n",
       "      <td>9</td>\n",
       "      <td>31548.79</td>\n",
       "      <td>Bachelors</td>\n",
       "      <td>Urban</td>\n",
       "      <td>Finance</td>\n",
       "      <td>5</td>\n",
       "      <td>0</td>\n",
       "    </tr>\n",
       "    <tr>\n",
       "      <th>1</th>\n",
       "      <td>Person_1</td>\n",
       "      <td>33.6</td>\n",
       "      <td>Female</td>\n",
       "      <td>Analyst</td>\n",
       "      <td>18</td>\n",
       "      <td>68986.40</td>\n",
       "      <td>High School</td>\n",
       "      <td>Urban</td>\n",
       "      <td>IT</td>\n",
       "      <td>3</td>\n",
       "      <td>1</td>\n",
       "    </tr>\n",
       "    <tr>\n",
       "      <th>2</th>\n",
       "      <td>Person_2</td>\n",
       "      <td>41.5</td>\n",
       "      <td>Female</td>\n",
       "      <td>Manager</td>\n",
       "      <td>0</td>\n",
       "      <td>57478.94</td>\n",
       "      <td>High School</td>\n",
       "      <td>Rural</td>\n",
       "      <td>Finance</td>\n",
       "      <td>4</td>\n",
       "      <td>1</td>\n",
       "    </tr>\n",
       "    <tr>\n",
       "      <th>3</th>\n",
       "      <td>Person_3</td>\n",
       "      <td>50.2</td>\n",
       "      <td>Male</td>\n",
       "      <td>Clerk</td>\n",
       "      <td>4</td>\n",
       "      <td>64277.63</td>\n",
       "      <td>Bachelors</td>\n",
       "      <td>Rural</td>\n",
       "      <td>IT</td>\n",
       "      <td>5</td>\n",
       "      <td>0</td>\n",
       "    </tr>\n",
       "    <tr>\n",
       "      <th>4</th>\n",
       "      <td>Person_4</td>\n",
       "      <td>32.7</td>\n",
       "      <td>Female</td>\n",
       "      <td>Engineer</td>\n",
       "      <td>12</td>\n",
       "      <td>52921.20</td>\n",
       "      <td>PhD</td>\n",
       "      <td>Suburban</td>\n",
       "      <td>Finance</td>\n",
       "      <td>4</td>\n",
       "      <td>1</td>\n",
       "    </tr>\n",
       "  </tbody>\n",
       "</table>\n",
       "</div>"
      ],
      "text/plain": [
       "       Name   Age  Gender   JobRole  Experience    Salary EducationLevel  \\\n",
       "0  Person_0  40.0  Female  Engineer           9  31548.79      Bachelors   \n",
       "1  Person_1  33.6  Female   Analyst          18  68986.40    High School   \n",
       "2  Person_2  41.5  Female   Manager           0  57478.94    High School   \n",
       "3  Person_3  50.2    Male     Clerk           4  64277.63      Bachelors   \n",
       "4  Person_4  32.7  Female  Engineer          12  52921.20            PhD   \n",
       "\n",
       "   Location Department  PerformanceScore  Promoted  \n",
       "0     Urban    Finance                 5         0  \n",
       "1     Urban         IT                 3         1  \n",
       "2     Rural    Finance                 4         1  \n",
       "3     Rural         IT                 5         0  \n",
       "4  Suburban    Finance                 4         1  "
      ]
     },
     "execution_count": 39,
     "metadata": {},
     "output_type": "execute_result"
    }
   ],
   "source": [
    "df.head()"
   ]
  },
  {
   "cell_type": "code",
   "execution_count": 40,
   "id": "101b4755-fd8f-4bdd-8a52-79dc3a603cfd",
   "metadata": {},
   "outputs": [
    {
     "data": {
      "text/plain": [
       "Name                 object\n",
       "Age                 float64\n",
       "Gender               object\n",
       "JobRole              object\n",
       "Experience            int32\n",
       "Salary              float64\n",
       "EducationLevel       object\n",
       "Location             object\n",
       "Department           object\n",
       "PerformanceScore      int32\n",
       "Promoted              int32\n",
       "dtype: object"
      ]
     },
     "execution_count": 40,
     "metadata": {},
     "output_type": "execute_result"
    }
   ],
   "source": [
    "df.dtypes"
   ]
  },
  {
   "cell_type": "code",
   "execution_count": 41,
   "id": "25b15d37-937b-4169-8961-6809886c62b2",
   "metadata": {},
   "outputs": [],
   "source": [
    "num_cols = df.select_dtypes(include = [\"int32\", \"float64\"]).columns"
   ]
  },
  {
   "cell_type": "code",
   "execution_count": 42,
   "id": "3411c8ed-10ba-4d73-9c80-e1f3204997c0",
   "metadata": {},
   "outputs": [
    {
     "data": {
      "text/plain": [
       "Index(['Age', 'Experience', 'Salary', 'PerformanceScore', 'Promoted'], dtype='object')"
      ]
     },
     "execution_count": 42,
     "metadata": {},
     "output_type": "execute_result"
    }
   ],
   "source": [
    "num_cols"
   ]
  },
  {
   "cell_type": "code",
   "execution_count": 43,
   "id": "d8730bc8-528b-428c-bd6c-823bf6b89014",
   "metadata": {},
   "outputs": [
    {
     "data": {
      "text/plain": [
       "{'Age': 143,\n",
       " 'Experience': 150,\n",
       " 'Salary': 144,\n",
       " 'PerformanceScore': 150,\n",
       " 'Promoted': 150}"
      ]
     },
     "execution_count": 43,
     "metadata": {},
     "output_type": "execute_result"
    }
   ],
   "source": [
    "outlier_summary = {}\n",
    "for col in num_cols:\n",
    "    Q1 = df[col].quantile(0.25)\n",
    "    Q3 = df[col].quantile(0.75)\n",
    "    IQR = Q3 - Q1\n",
    "    lower = Q1 - 1.5*IQR\n",
    "    upper = Q3 + 1.5*IQR\n",
    "    outliers = df[(df[col] >= lower)&(df[col] <= upper)]\n",
    "    outlier_summary[col] = len(outliers)\n",
    "    \n",
    "\n",
    "outlier_summary"
   ]
  },
  {
   "cell_type": "code",
   "execution_count": 44,
   "id": "1c0da882-e041-4d89-8731-7b0078396fe8",
   "metadata": {},
   "outputs": [
    {
     "data": {
      "image/png": "[encoded data removed]",
      "text/plain": [
       "<Figure size 1500x800 with 5 Axes>"
      ]
     },
     "metadata": {},
     "output_type": "display_data"
    }
   ],
   "source": [
    "import matplotlib.pyplot as plt\n",
    "import seaborn as sns\n",
    "\n",
    "# numeric_cols = df.select_dtypes(include=['int64', 'float64']).columns\n",
    "\n",
    "plt.figure(figsize=(15, 8))\n",
    "for i, col in enumerate(num_cols, 1):\n",
    "    plt.subplot(2, len(num_cols)//2 + 1, i)\n",
    "    sns.boxplot(y=df[col])\n",
    "    plt.title(col)\n",
    "\n",
    "plt.tight_layout()\n",
    "plt.show()\n"
   ]
  },
  {
   "cell_type": "code",
   "execution_count": 45,
   "id": "753f2505-033f-4ef3-90ed-c65877f4db5a",
   "metadata": {},
   "outputs": [
    {
     "name": "stdout",
     "output_type": "stream",
     "text": [
      "Original dataset shape: (150, 11)\n",
      "After outlier removal: (138, 11)\n"
     ]
    }
   ],
   "source": [
    "df_clean = df.copy()\n",
    "\n",
    "for col in num_cols:\n",
    "    Q1 = df_clean[col].quantile(0.25)\n",
    "    Q3 = df_clean[col].quantile(0.75)\n",
    "    IQR = Q3 - Q1\n",
    "    lower = Q1 - 1.5 * IQR\n",
    "    upper = Q3 + 1.5 * IQR\n",
    "    \n",
    "    # Keep only values within the IQR range\n",
    "    df_clean = df_clean[(df_clean[col] >= lower) & (df_clean[col] <= upper)]\n",
    "\n",
    "print(\"Original dataset shape:\", df.shape)\n",
    "print(\"After outlier removal:\", df_clean.shape)"
   ]
  },
  {
   "cell_type": "code",
   "execution_count": 46,
   "id": "65d3d7be-5ef1-40cf-bd25-95965af2f812",
   "metadata": {},
   "outputs": [
    {
     "data": {
      "image/png": "[encoded data removed]",
      "text/plain": [
       "<Figure size 1500x800 with 5 Axes>"
      ]
     },
     "metadata": {},
     "output_type": "display_data"
    }
   ],
   "source": [
    "plt.figure(figsize=(15, 8))\n",
    "for i, col in enumerate(num_cols, 1):\n",
    "    plt.subplot(2, len(num_cols)//2 + 1, i)\n",
    "    sns.boxplot(y=df_clean[col])\n",
    "    plt.title(f\"{col} (After Outlier Removal)\")\n",
    "\n",
    "plt.tight_layout()\n",
    "plt.show()"
   ]
  },
  {
   "cell_type": "code",
   "execution_count": 47,
   "id": "6db2c5e6-d9b6-4896-83a8-19ae55b9248a",
   "metadata": {},
   "outputs": [
    {
     "data": {
      "text/plain": [
       "Name                0\n",
       "Age                 0\n",
       "Gender              0\n",
       "JobRole             0\n",
       "Experience          0\n",
       "Salary              0\n",
       "EducationLevel      0\n",
       "Location            0\n",
       "Department          0\n",
       "PerformanceScore    0\n",
       "Promoted            0\n",
       "dtype: int64"
      ]
     },
     "execution_count": 47,
     "metadata": {},
     "output_type": "execute_result"
    }
   ],
   "source": [
    "df_clean.isnull().sum()"
   ]
  },
  {
   "cell_type": "markdown",
   "id": "618ced48-4260-43de-b37f-cdcd6e111783",
   "metadata": {},
   "source": [
    "## EDA"
   ]
  },
  {
   "cell_type": "markdown",
   "id": "5314bd87-9385-4cb4-af06-f8d24d57708e",
   "metadata": {},
   "source": [
    "### Correlation matrix"
   ]
  },
  {
   "cell_type": "code",
   "execution_count": 50,
   "id": "38d49806-81b6-4c75-9c6b-8ad681140252",
   "metadata": {},
   "outputs": [
    {
     "name": "stdout",
     "output_type": "stream",
     "text": [
      "Name:  ['Person_0' 'Person_1' 'Person_2' 'Person_3' 'Person_4' 'Person_5'\n",
      " 'Person_6' 'Person_7' 'Person_8' 'Person_9' 'Person_10' 'Person_11'\n",
      " 'Person_12' 'Person_13' 'Person_14' 'Person_15' 'Person_16' 'Person_17'\n",
      " 'Person_18' 'Person_19' 'Person_20' 'Person_21' 'Person_22' 'Person_23'\n",
      " 'Person_24' 'Person_25' 'Person_26' 'Person_27' 'Person_28' 'Person_29'\n",
      " 'Person_30' 'Person_31' 'Person_32' 'Person_33' 'Person_34' 'Person_35'\n",
      " 'Person_36' 'Person_37' 'Person_38' 'Person_39' 'Person_40' 'Person_41'\n",
      " 'Person_42' 'Person_43' 'Person_44' 'Person_45' 'Person_46' 'Person_47'\n",
      " 'Person_48' 'Person_49' 'Person_50' 'Person_51' 'Person_52' 'Person_53'\n",
      " 'Person_54' 'Person_55' 'Person_56' 'Person_57' 'Person_58' 'Person_59'\n",
      " 'Person_60' 'Person_61' 'Person_62' 'Person_63' 'Person_64' 'Person_65'\n",
      " 'Person_66' 'Person_67' 'Person_68' 'Person_69' 'Person_70' 'Person_71'\n",
      " 'Person_72' 'Person_73' 'Person_74' 'Person_75' 'Person_76' 'Person_77'\n",
      " 'Person_78' 'Person_79' 'Person_80' 'Person_81' 'Person_82' 'Person_83'\n",
      " 'Person_84' 'Person_85' 'Person_86' 'Person_87' 'Person_88' 'Person_89'\n",
      " 'Person_90' 'Person_91' 'Person_92' 'Person_93' 'Person_94' 'Person_95'\n",
      " 'Person_96' 'Person_97' 'Person_98' 'Person_99' 'Person_100' 'Person_101'\n",
      " 'Person_102' 'Person_103' 'Person_104' 'Person_105' 'Person_106'\n",
      " 'Person_107' 'Person_108' 'Person_109' 'Person_110' 'Person_111'\n",
      " 'Person_112' 'Person_113' 'Person_114' 'Person_115' 'Person_116'\n",
      " 'Person_117' 'Person_118' 'Person_119' 'Person_120' 'Person_121'\n",
      " 'Person_122' 'Person_123' 'Person_124' 'Person_125' 'Person_126'\n",
      " 'Person_127' 'Person_128' 'Person_129' 'Person_130' 'Person_131'\n",
      " 'Person_132' 'Person_133' 'Person_134' 'Person_135' 'Person_136'\n",
      " 'Person_137' 'Person_138' 'Person_139' 'Person_140' 'Person_141'\n",
      " 'Person_142' 'Person_143' 'Person_144' 'Person_145' 'Person_146'\n",
      " 'Person_147' 'Person_148' 'Person_149']\n",
      "Age:  [40.         33.6        41.5        50.2        32.7        50.8\n",
      " 42.7        30.3        40.4        30.4        37.4        15.9\n",
      " 17.8        29.4        24.9        38.1        25.9        20.9\n",
      " 49.7        35.7        20.8        29.6        36.1        23.5\n",
      " 34.19703704 29.         53.5        34.9        24.4        43.2\n",
      " 22.8        37.1        15.4        21.7        37.         42.4\n",
      " 36.7        33.8        32.         20.2        27.8        45.6\n",
      " 38.4        17.4        38.2        31.1        45.3        44.3\n",
      " 26.6        31.9        38.3        44.8        30.2        23.9\n",
      " 23.         43.1        48.6        34.3        45.         38.6\n",
      " 28.5        34.6        50.6         8.8        35.9        15.1\n",
      " 32.8        49.8        29.8        26.9        44.2        29.7\n",
      " 40.1        36.         44.7        28.         31.7        20.4\n",
      " 38.         37.6        35.1        30.8        31.6        27.\n",
      " 33.4        39.         53.9        34.7        35.6        59.6\n",
      " 33.1        46.4        42.5        42.9        49.         21.\n",
      " 56.9        25.1        29.3        19.5        39.7        25.8\n",
      " 27.2        31.8        22.7        37.3        48.1        18.9\n",
      " 36.8        42.8        22.6        40.2       ]\n",
      "Gender:  ['Female' 'Male']\n",
      "JobRole:  ['Engineer' 'Analyst' 'Manager' 'Clerk']\n",
      "Experience:  [ 9 18  0  4 12  3 15  1 16 19 11 17  2 10  7 13  8  6 14  5]\n",
      "Salary:  [ 31548.79  68986.4   57478.94  64277.63  52921.2   63258.1   52921.84\n",
      "  51657.28  46541.46  82887.45  65503.64  63142.45  46866.57  56477.27\n",
      "  45191.56  52632.55  61647.9   83837.16  48646.41  46873.82  40115.85\n",
      "  48431.92  52576.6   59257.81  50320.17  35990.83  70194.9   69733.4\n",
      "  71704.13 249064.8   41524.04  62843.77  80993.95  53288.58  65109.23\n",
      "  59793.33  80585.67  77302.98  54374.84  49587.81  65136.85  88672.94\n",
      "  83942.14  69015.81  50335.87  80339.56  48905.72  50261.29  47272.19\n",
      "  45956.32  64997.6  224525.88   7827.46  55976.05  52231.32  73392.38\n",
      "  51551.12 392355.48  80951.9   77244.35  67878.18  63501.99  72039.78\n",
      "  63605.27  72350.29  90786.79  63767.92  53193.05  29561.54  89419.55\n",
      "  56051.37  68022.14  88588.61  63414.03  57079.95 325180.36  66911.06\n",
      "  68791.58  37152.59  78088.73  65633.82  39426.16  67276.41  29062.11\n",
      "  95129.63  43472.18  84176.89  47805.67  68403.39  46318.08  74956.73\n",
      "  56470.22  67016.69  60225.97  39515.03  67561.6   52451.44  75679.69\n",
      "  56462.1   58848.54  85243.9   95724.55  71790.51  55692.9   54380.08\n",
      "  47719.85  50621.43  55895.85  41609.2   60624.98  62671.93  60534.53\n",
      "  71995.37  61035.08  71530.91  48294.85  86710.94  63787.2   67077.4\n",
      "  69765.98  42453.47  35113.63  52668.45  63898.82  40634.46  36592.41\n",
      "  54753.24  28339.51  80146.48  40385.14  98599.87  50639.75  66023.41\n",
      "  84704.24  89792.05]\n",
      "EducationLevel:  ['Bachelors' 'High School' 'PhD' 'Masters']\n",
      "Location:  ['Urban' 'Rural' 'Suburban']\n",
      "Department:  ['Finance' 'IT' 'HR' 'Marketing']\n",
      "PerformanceScore:  [5 3 4 2 1]\n",
      "Promoted:  [0 1]\n"
     ]
    }
   ],
   "source": [
    "for i in df.columns:\n",
    "    print(f\"{i}: \",df[i].unique())"
   ]
  },
  {
   "cell_type": "code",
   "execution_count": 51,
   "id": "05e636f4-a4cb-4b22-8aa3-423c60fd333f",
   "metadata": {},
   "outputs": [
    {
     "data": {
      "image/png": "[encoded data removed]",
      "text/plain": [
       "<Figure size 640x480 with 2 Axes>"
      ]
     },
     "metadata": {},
     "output_type": "display_data"
    }
   ],
   "source": [
    "corr_matrix  = df[num_cols].corr()\n",
    "sns.heatmap(corr_matrix, annot=True, cmap='coolwarm', fmt='.2f')\n",
    "plt.show()"
   ]
  },
  {
   "cell_type": "markdown",
   "id": "292275ae-6c3d-4632-b2c9-e4eb1cb50f4d",
   "metadata": {},
   "source": [
    "### Encoding"
   ]
  },
  {
   "cell_type": "code",
   "execution_count": 53,
   "id": "3d8849ff-4781-456f-a08b-571947c50b4d",
   "metadata": {},
   "outputs": [],
   "source": [
    "from sklearn.preprocessing import OneHotEncoder, OrdinalEncoder"
   ]
  },
  {
   "cell_type": "code",
   "execution_count": 54,
   "id": "8dce4519-cc55-4a9a-9c55-2c5d542b9c9e",
   "metadata": {},
   "outputs": [
    {
     "data": {
      "text/html": [
       "<div>\n",
       "<style scoped>\n",
       "    .dataframe tbody tr th:only-of-type {\n",
       "        vertical-align: middle;\n",
       "    }\n",
       "\n",
       "    .dataframe tbody tr th {\n",
       "        vertical-align: top;\n",
       "    }\n",
       "\n",
       "    .dataframe thead th {\n",
       "        text-align: right;\n",
       "    }\n",
       "</style>\n",
       "<table border=\"1\" class=\"dataframe\">\n",
       "  <thead>\n",
       "    <tr style=\"text-align: right;\">\n",
       "      <th></th>\n",
       "      <th>Name</th>\n",
       "      <th>Age</th>\n",
       "      <th>Gender</th>\n",
       "      <th>JobRole</th>\n",
       "      <th>Experience</th>\n",
       "      <th>Salary</th>\n",
       "      <th>EducationLevel</th>\n",
       "      <th>Location</th>\n",
       "      <th>Department</th>\n",
       "      <th>PerformanceScore</th>\n",
       "      <th>Promoted</th>\n",
       "    </tr>\n",
       "  </thead>\n",
       "  <tbody>\n",
       "    <tr>\n",
       "      <th>0</th>\n",
       "      <td>Person_0</td>\n",
       "      <td>40.0</td>\n",
       "      <td>Female</td>\n",
       "      <td>Engineer</td>\n",
       "      <td>9</td>\n",
       "      <td>31548.79</td>\n",
       "      <td>Bachelors</td>\n",
       "      <td>Urban</td>\n",
       "      <td>Finance</td>\n",
       "      <td>5</td>\n",
       "      <td>0</td>\n",
       "    </tr>\n",
       "    <tr>\n",
       "      <th>1</th>\n",
       "      <td>Person_1</td>\n",
       "      <td>33.6</td>\n",
       "      <td>Female</td>\n",
       "      <td>Analyst</td>\n",
       "      <td>18</td>\n",
       "      <td>68986.40</td>\n",
       "      <td>High School</td>\n",
       "      <td>Urban</td>\n",
       "      <td>IT</td>\n",
       "      <td>3</td>\n",
       "      <td>1</td>\n",
       "    </tr>\n",
       "    <tr>\n",
       "      <th>2</th>\n",
       "      <td>Person_2</td>\n",
       "      <td>41.5</td>\n",
       "      <td>Female</td>\n",
       "      <td>Manager</td>\n",
       "      <td>0</td>\n",
       "      <td>57478.94</td>\n",
       "      <td>High School</td>\n",
       "      <td>Rural</td>\n",
       "      <td>Finance</td>\n",
       "      <td>4</td>\n",
       "      <td>1</td>\n",
       "    </tr>\n",
       "    <tr>\n",
       "      <th>3</th>\n",
       "      <td>Person_3</td>\n",
       "      <td>50.2</td>\n",
       "      <td>Male</td>\n",
       "      <td>Clerk</td>\n",
       "      <td>4</td>\n",
       "      <td>64277.63</td>\n",
       "      <td>Bachelors</td>\n",
       "      <td>Rural</td>\n",
       "      <td>IT</td>\n",
       "      <td>5</td>\n",
       "      <td>0</td>\n",
       "    </tr>\n",
       "    <tr>\n",
       "      <th>4</th>\n",
       "      <td>Person_4</td>\n",
       "      <td>32.7</td>\n",
       "      <td>Female</td>\n",
       "      <td>Engineer</td>\n",
       "      <td>12</td>\n",
       "      <td>52921.20</td>\n",
       "      <td>PhD</td>\n",
       "      <td>Suburban</td>\n",
       "      <td>Finance</td>\n",
       "      <td>4</td>\n",
       "      <td>1</td>\n",
       "    </tr>\n",
       "  </tbody>\n",
       "</table>\n",
       "</div>"
      ],
      "text/plain": [
       "       Name   Age  Gender   JobRole  Experience    Salary EducationLevel  \\\n",
       "0  Person_0  40.0  Female  Engineer           9  31548.79      Bachelors   \n",
       "1  Person_1  33.6  Female   Analyst          18  68986.40    High School   \n",
       "2  Person_2  41.5  Female   Manager           0  57478.94    High School   \n",
       "3  Person_3  50.2    Male     Clerk           4  64277.63      Bachelors   \n",
       "4  Person_4  32.7  Female  Engineer          12  52921.20            PhD   \n",
       "\n",
       "   Location Department  PerformanceScore  Promoted  \n",
       "0     Urban    Finance                 5         0  \n",
       "1     Urban         IT                 3         1  \n",
       "2     Rural    Finance                 4         1  \n",
       "3     Rural         IT                 5         0  \n",
       "4  Suburban    Finance                 4         1  "
      ]
     },
     "execution_count": 54,
     "metadata": {},
     "output_type": "execute_result"
    }
   ],
   "source": [
    "df_clean.head()"
   ]
  },
  {
   "cell_type": "code",
   "execution_count": 55,
   "id": "30ad5968-3ac0-41d5-b7fa-361dc2771e5a",
   "metadata": {},
   "outputs": [
    {
     "data": {
      "text/html": [
       "<div>\n",
       "<style scoped>\n",
       "    .dataframe tbody tr th:only-of-type {\n",
       "        vertical-align: middle;\n",
       "    }\n",
       "\n",
       "    .dataframe tbody tr th {\n",
       "        vertical-align: top;\n",
       "    }\n",
       "\n",
       "    .dataframe thead th {\n",
       "        text-align: right;\n",
       "    }\n",
       "</style>\n",
       "<table border=\"1\" class=\"dataframe\">\n",
       "  <thead>\n",
       "    <tr style=\"text-align: right;\">\n",
       "      <th></th>\n",
       "      <th>Name</th>\n",
       "      <th>Age</th>\n",
       "      <th>Experience</th>\n",
       "      <th>Salary</th>\n",
       "      <th>EducationLevel</th>\n",
       "      <th>PerformanceScore</th>\n",
       "      <th>Promoted</th>\n",
       "      <th>Gender_Male</th>\n",
       "      <th>JobRole_Clerk</th>\n",
       "      <th>JobRole_Engineer</th>\n",
       "      <th>JobRole_Manager</th>\n",
       "      <th>Location_Suburban</th>\n",
       "      <th>Location_Urban</th>\n",
       "      <th>Department_HR</th>\n",
       "      <th>Department_IT</th>\n",
       "      <th>Department_Marketing</th>\n",
       "    </tr>\n",
       "  </thead>\n",
       "  <tbody>\n",
       "    <tr>\n",
       "      <th>0</th>\n",
       "      <td>Person_0</td>\n",
       "      <td>40.0</td>\n",
       "      <td>9</td>\n",
       "      <td>31548.79</td>\n",
       "      <td>Bachelors</td>\n",
       "      <td>5</td>\n",
       "      <td>0</td>\n",
       "      <td>False</td>\n",
       "      <td>False</td>\n",
       "      <td>True</td>\n",
       "      <td>False</td>\n",
       "      <td>False</td>\n",
       "      <td>True</td>\n",
       "      <td>False</td>\n",
       "      <td>False</td>\n",
       "      <td>False</td>\n",
       "    </tr>\n",
       "    <tr>\n",
       "      <th>1</th>\n",
       "      <td>Person_1</td>\n",
       "      <td>33.6</td>\n",
       "      <td>18</td>\n",
       "      <td>68986.40</td>\n",
       "      <td>High School</td>\n",
       "      <td>3</td>\n",
       "      <td>1</td>\n",
       "      <td>False</td>\n",
       "      <td>False</td>\n",
       "      <td>False</td>\n",
       "      <td>False</td>\n",
       "      <td>False</td>\n",
       "      <td>True</td>\n",
       "      <td>False</td>\n",
       "      <td>True</td>\n",
       "      <td>False</td>\n",
       "    </tr>\n",
       "    <tr>\n",
       "      <th>2</th>\n",
       "      <td>Person_2</td>\n",
       "      <td>41.5</td>\n",
       "      <td>0</td>\n",
       "      <td>57478.94</td>\n",
       "      <td>High School</td>\n",
       "      <td>4</td>\n",
       "      <td>1</td>\n",
       "      <td>False</td>\n",
       "      <td>False</td>\n",
       "      <td>False</td>\n",
       "      <td>True</td>\n",
       "      <td>False</td>\n",
       "      <td>False</td>\n",
       "      <td>False</td>\n",
       "      <td>False</td>\n",
       "      <td>False</td>\n",
       "    </tr>\n",
       "    <tr>\n",
       "      <th>3</th>\n",
       "      <td>Person_3</td>\n",
       "      <td>50.2</td>\n",
       "      <td>4</td>\n",
       "      <td>64277.63</td>\n",
       "      <td>Bachelors</td>\n",
       "      <td>5</td>\n",
       "      <td>0</td>\n",
       "      <td>True</td>\n",
       "      <td>True</td>\n",
       "      <td>False</td>\n",
       "      <td>False</td>\n",
       "      <td>False</td>\n",
       "      <td>False</td>\n",
       "      <td>False</td>\n",
       "      <td>True</td>\n",
       "      <td>False</td>\n",
       "    </tr>\n",
       "    <tr>\n",
       "      <th>4</th>\n",
       "      <td>Person_4</td>\n",
       "      <td>32.7</td>\n",
       "      <td>12</td>\n",
       "      <td>52921.20</td>\n",
       "      <td>PhD</td>\n",
       "      <td>4</td>\n",
       "      <td>1</td>\n",
       "      <td>False</td>\n",
       "      <td>False</td>\n",
       "      <td>True</td>\n",
       "      <td>False</td>\n",
       "      <td>True</td>\n",
       "      <td>False</td>\n",
       "      <td>False</td>\n",
       "      <td>False</td>\n",
       "      <td>False</td>\n",
       "    </tr>\n",
       "  </tbody>\n",
       "</table>\n",
       "</div>"
      ],
      "text/plain": [
       "       Name   Age  Experience    Salary EducationLevel  PerformanceScore  \\\n",
       "0  Person_0  40.0           9  31548.79      Bachelors                 5   \n",
       "1  Person_1  33.6          18  68986.40    High School                 3   \n",
       "2  Person_2  41.5           0  57478.94    High School                 4   \n",
       "3  Person_3  50.2           4  64277.63      Bachelors                 5   \n",
       "4  Person_4  32.7          12  52921.20            PhD                 4   \n",
       "\n",
       "   Promoted  Gender_Male  JobRole_Clerk  JobRole_Engineer  JobRole_Manager  \\\n",
       "0         0        False          False              True            False   \n",
       "1         1        False          False             False            False   \n",
       "2         1        False          False             False             True   \n",
       "3         0         True           True             False            False   \n",
       "4         1        False          False              True            False   \n",
       "\n",
       "   Location_Suburban  Location_Urban  Department_HR  Department_IT  \\\n",
       "0              False            True          False          False   \n",
       "1              False            True          False           True   \n",
       "2              False           False          False          False   \n",
       "3              False           False          False           True   \n",
       "4               True           False          False          False   \n",
       "\n",
       "   Department_Marketing  \n",
       "0                 False  \n",
       "1                 False  \n",
       "2                 False  \n",
       "3                 False  \n",
       "4                 False  "
      ]
     },
     "execution_count": 55,
     "metadata": {},
     "output_type": "execute_result"
    }
   ],
   "source": [
    "df_clean = pd.get_dummies(df_clean, columns=['Gender', 'JobRole','Location', 'Department'], drop_first=True)\n",
    "df_clean.head()"
   ]
  },
  {
   "cell_type": "code",
   "execution_count": 56,
   "id": "68a424d3-6e0a-492e-a465-06d5d7e5f136",
   "metadata": {},
   "outputs": [
    {
     "data": {
      "text/html": [
       "<div>\n",
       "<style scoped>\n",
       "    .dataframe tbody tr th:only-of-type {\n",
       "        vertical-align: middle;\n",
       "    }\n",
       "\n",
       "    .dataframe tbody tr th {\n",
       "        vertical-align: top;\n",
       "    }\n",
       "\n",
       "    .dataframe thead th {\n",
       "        text-align: right;\n",
       "    }\n",
       "</style>\n",
       "<table border=\"1\" class=\"dataframe\">\n",
       "  <thead>\n",
       "    <tr style=\"text-align: right;\">\n",
       "      <th></th>\n",
       "      <th>EducationLevel</th>\n",
       "    </tr>\n",
       "  </thead>\n",
       "  <tbody>\n",
       "    <tr>\n",
       "      <th>0</th>\n",
       "      <td>1.0</td>\n",
       "    </tr>\n",
       "    <tr>\n",
       "      <th>1</th>\n",
       "      <td>0.0</td>\n",
       "    </tr>\n",
       "    <tr>\n",
       "      <th>2</th>\n",
       "      <td>0.0</td>\n",
       "    </tr>\n",
       "    <tr>\n",
       "      <th>3</th>\n",
       "      <td>1.0</td>\n",
       "    </tr>\n",
       "    <tr>\n",
       "      <th>4</th>\n",
       "      <td>3.0</td>\n",
       "    </tr>\n",
       "  </tbody>\n",
       "</table>\n",
       "</div>"
      ],
      "text/plain": [
       "   EducationLevel\n",
       "0             1.0\n",
       "1             0.0\n",
       "2             0.0\n",
       "3             1.0\n",
       "4             3.0"
      ]
     },
     "execution_count": 56,
     "metadata": {},
     "output_type": "execute_result"
    }
   ],
   "source": [
    "df_encoded = df_clean.copy()\n",
    "\n",
    "# Define the ordered categories for EducationLevel\n",
    "education_order = [['High School', 'Bachelors', 'Masters', 'PhD']]\n",
    "\n",
    "# Initialize and apply the OrdinalEncoder\n",
    "ord_encoder = OrdinalEncoder(categories=education_order)\n",
    "df_encoded[['EducationLevel']] = ord_encoder.fit_transform(df_encoded[['EducationLevel']])\n",
    "\n",
    "df_encoded[['EducationLevel']].head()"
   ]
  },
  {
   "cell_type": "code",
   "execution_count": 57,
   "id": "b54d3a35-ac8d-47b9-b0d0-3c211f7ee974",
   "metadata": {},
   "outputs": [
    {
     "name": "stdout",
     "output_type": "stream",
     "text": [
      "Original unique values: ['Bachelors' 'High School' 'PhD' 'Masters']\n",
      "Encoded unique values: [1. 0. 3. 2.]\n"
     ]
    }
   ],
   "source": [
    "print(\"Original unique values:\", df['EducationLevel'].unique())\n",
    "print(\"Encoded unique values:\", df_encoded['EducationLevel'].unique())\n"
   ]
  },
  {
   "cell_type": "code",
   "execution_count": 58,
   "id": "5a87d215-a9b6-40da-83ae-4cab084db108",
   "metadata": {},
   "outputs": [
    {
     "data": {
      "text/html": [
       "<div>\n",
       "<style scoped>\n",
       "    .dataframe tbody tr th:only-of-type {\n",
       "        vertical-align: middle;\n",
       "    }\n",
       "\n",
       "    .dataframe tbody tr th {\n",
       "        vertical-align: top;\n",
       "    }\n",
       "\n",
       "    .dataframe thead th {\n",
       "        text-align: right;\n",
       "    }\n",
       "</style>\n",
       "<table border=\"1\" class=\"dataframe\">\n",
       "  <thead>\n",
       "    <tr style=\"text-align: right;\">\n",
       "      <th></th>\n",
       "      <th>Name</th>\n",
       "      <th>Age</th>\n",
       "      <th>Experience</th>\n",
       "      <th>Salary</th>\n",
       "      <th>EducationLevel</th>\n",
       "      <th>PerformanceScore</th>\n",
       "      <th>Promoted</th>\n",
       "      <th>Gender_Male</th>\n",
       "      <th>JobRole_Clerk</th>\n",
       "      <th>JobRole_Engineer</th>\n",
       "      <th>JobRole_Manager</th>\n",
       "      <th>Location_Suburban</th>\n",
       "      <th>Location_Urban</th>\n",
       "      <th>Department_HR</th>\n",
       "      <th>Department_IT</th>\n",
       "      <th>Department_Marketing</th>\n",
       "    </tr>\n",
       "  </thead>\n",
       "  <tbody>\n",
       "    <tr>\n",
       "      <th>0</th>\n",
       "      <td>Person_0</td>\n",
       "      <td>40.0</td>\n",
       "      <td>9</td>\n",
       "      <td>31548.79</td>\n",
       "      <td>1.0</td>\n",
       "      <td>5</td>\n",
       "      <td>0</td>\n",
       "      <td>False</td>\n",
       "      <td>False</td>\n",
       "      <td>True</td>\n",
       "      <td>False</td>\n",
       "      <td>False</td>\n",
       "      <td>True</td>\n",
       "      <td>False</td>\n",
       "      <td>False</td>\n",
       "      <td>False</td>\n",
       "    </tr>\n",
       "    <tr>\n",
       "      <th>1</th>\n",
       "      <td>Person_1</td>\n",
       "      <td>33.6</td>\n",
       "      <td>18</td>\n",
       "      <td>68986.40</td>\n",
       "      <td>0.0</td>\n",
       "      <td>3</td>\n",
       "      <td>1</td>\n",
       "      <td>False</td>\n",
       "      <td>False</td>\n",
       "      <td>False</td>\n",
       "      <td>False</td>\n",
       "      <td>False</td>\n",
       "      <td>True</td>\n",
       "      <td>False</td>\n",
       "      <td>True</td>\n",
       "      <td>False</td>\n",
       "    </tr>\n",
       "    <tr>\n",
       "      <th>2</th>\n",
       "      <td>Person_2</td>\n",
       "      <td>41.5</td>\n",
       "      <td>0</td>\n",
       "      <td>57478.94</td>\n",
       "      <td>0.0</td>\n",
       "      <td>4</td>\n",
       "      <td>1</td>\n",
       "      <td>False</td>\n",
       "      <td>False</td>\n",
       "      <td>False</td>\n",
       "      <td>True</td>\n",
       "      <td>False</td>\n",
       "      <td>False</td>\n",
       "      <td>False</td>\n",
       "      <td>False</td>\n",
       "      <td>False</td>\n",
       "    </tr>\n",
       "    <tr>\n",
       "      <th>3</th>\n",
       "      <td>Person_3</td>\n",
       "      <td>50.2</td>\n",
       "      <td>4</td>\n",
       "      <td>64277.63</td>\n",
       "      <td>1.0</td>\n",
       "      <td>5</td>\n",
       "      <td>0</td>\n",
       "      <td>True</td>\n",
       "      <td>True</td>\n",
       "      <td>False</td>\n",
       "      <td>False</td>\n",
       "      <td>False</td>\n",
       "      <td>False</td>\n",
       "      <td>False</td>\n",
       "      <td>True</td>\n",
       "      <td>False</td>\n",
       "    </tr>\n",
       "    <tr>\n",
       "      <th>4</th>\n",
       "      <td>Person_4</td>\n",
       "      <td>32.7</td>\n",
       "      <td>12</td>\n",
       "      <td>52921.20</td>\n",
       "      <td>3.0</td>\n",
       "      <td>4</td>\n",
       "      <td>1</td>\n",
       "      <td>False</td>\n",
       "      <td>False</td>\n",
       "      <td>True</td>\n",
       "      <td>False</td>\n",
       "      <td>True</td>\n",
       "      <td>False</td>\n",
       "      <td>False</td>\n",
       "      <td>False</td>\n",
       "      <td>False</td>\n",
       "    </tr>\n",
       "  </tbody>\n",
       "</table>\n",
       "</div>"
      ],
      "text/plain": [
       "       Name   Age  Experience    Salary  EducationLevel  PerformanceScore  \\\n",
       "0  Person_0  40.0           9  31548.79             1.0                 5   \n",
       "1  Person_1  33.6          18  68986.40             0.0                 3   \n",
       "2  Person_2  41.5           0  57478.94             0.0                 4   \n",
       "3  Person_3  50.2           4  64277.63             1.0                 5   \n",
       "4  Person_4  32.7          12  52921.20             3.0                 4   \n",
       "\n",
       "   Promoted  Gender_Male  JobRole_Clerk  JobRole_Engineer  JobRole_Manager  \\\n",
       "0         0        False          False              True            False   \n",
       "1         1        False          False             False            False   \n",
       "2         1        False          False             False             True   \n",
       "3         0         True           True             False            False   \n",
       "4         1        False          False              True            False   \n",
       "\n",
       "   Location_Suburban  Location_Urban  Department_HR  Department_IT  \\\n",
       "0              False            True          False          False   \n",
       "1              False            True          False           True   \n",
       "2              False           False          False          False   \n",
       "3              False           False          False           True   \n",
       "4               True           False          False          False   \n",
       "\n",
       "   Department_Marketing  \n",
       "0                 False  \n",
       "1                 False  \n",
       "2                 False  \n",
       "3                 False  \n",
       "4                 False  "
      ]
     },
     "execution_count": 58,
     "metadata": {},
     "output_type": "execute_result"
    }
   ],
   "source": [
    "df_encoded.head()"
   ]
  },
  {
   "cell_type": "markdown",
   "id": "94942a9a-93dd-4cdc-8dc7-0e122031046b",
   "metadata": {},
   "source": [
    "### Scaling"
   ]
  },
  {
   "cell_type": "code",
   "execution_count": 60,
   "id": "6acec094-a785-40b3-bbd2-4c8ddc54b1d2",
   "metadata": {},
   "outputs": [
    {
     "data": {
      "text/html": [
       "<div>\n",
       "<style scoped>\n",
       "    .dataframe tbody tr th:only-of-type {\n",
       "        vertical-align: middle;\n",
       "    }\n",
       "\n",
       "    .dataframe tbody tr th {\n",
       "        vertical-align: top;\n",
       "    }\n",
       "\n",
       "    .dataframe thead th {\n",
       "        text-align: right;\n",
       "    }\n",
       "</style>\n",
       "<table border=\"1\" class=\"dataframe\">\n",
       "  <thead>\n",
       "    <tr style=\"text-align: right;\">\n",
       "      <th></th>\n",
       "      <th>Name</th>\n",
       "      <th>Age</th>\n",
       "      <th>Experience</th>\n",
       "      <th>Salary</th>\n",
       "      <th>EducationLevel</th>\n",
       "      <th>PerformanceScore</th>\n",
       "      <th>Promoted</th>\n",
       "      <th>Gender_Male</th>\n",
       "      <th>JobRole_Clerk</th>\n",
       "      <th>JobRole_Engineer</th>\n",
       "      <th>JobRole_Manager</th>\n",
       "      <th>Location_Suburban</th>\n",
       "      <th>Location_Urban</th>\n",
       "      <th>Department_HR</th>\n",
       "      <th>Department_IT</th>\n",
       "      <th>Department_Marketing</th>\n",
       "    </tr>\n",
       "  </thead>\n",
       "  <tbody>\n",
       "    <tr>\n",
       "      <th>0</th>\n",
       "      <td>Person_0</td>\n",
       "      <td>0.755541</td>\n",
       "      <td>-0.110843</td>\n",
       "      <td>-1.726778</td>\n",
       "      <td>1.0</td>\n",
       "      <td>1.0</td>\n",
       "      <td>0</td>\n",
       "      <td>False</td>\n",
       "      <td>False</td>\n",
       "      <td>True</td>\n",
       "      <td>False</td>\n",
       "      <td>False</td>\n",
       "      <td>True</td>\n",
       "      <td>False</td>\n",
       "      <td>False</td>\n",
       "      <td>False</td>\n",
       "    </tr>\n",
       "    <tr>\n",
       "      <th>1</th>\n",
       "      <td>Person_1</td>\n",
       "      <td>-0.063984</td>\n",
       "      <td>1.471543</td>\n",
       "      <td>0.421008</td>\n",
       "      <td>0.0</td>\n",
       "      <td>0.0</td>\n",
       "      <td>1</td>\n",
       "      <td>False</td>\n",
       "      <td>False</td>\n",
       "      <td>False</td>\n",
       "      <td>False</td>\n",
       "      <td>False</td>\n",
       "      <td>True</td>\n",
       "      <td>False</td>\n",
       "      <td>True</td>\n",
       "      <td>False</td>\n",
       "    </tr>\n",
       "    <tr>\n",
       "      <th>2</th>\n",
       "      <td>Person_2</td>\n",
       "      <td>0.947617</td>\n",
       "      <td>-1.693230</td>\n",
       "      <td>-0.239172</td>\n",
       "      <td>0.0</td>\n",
       "      <td>0.5</td>\n",
       "      <td>1</td>\n",
       "      <td>False</td>\n",
       "      <td>False</td>\n",
       "      <td>False</td>\n",
       "      <td>True</td>\n",
       "      <td>False</td>\n",
       "      <td>False</td>\n",
       "      <td>False</td>\n",
       "      <td>False</td>\n",
       "      <td>False</td>\n",
       "    </tr>\n",
       "    <tr>\n",
       "      <th>3</th>\n",
       "      <td>Person_3</td>\n",
       "      <td>2.061659</td>\n",
       "      <td>-0.989947</td>\n",
       "      <td>0.150867</td>\n",
       "      <td>1.0</td>\n",
       "      <td>1.0</td>\n",
       "      <td>0</td>\n",
       "      <td>True</td>\n",
       "      <td>True</td>\n",
       "      <td>False</td>\n",
       "      <td>False</td>\n",
       "      <td>False</td>\n",
       "      <td>False</td>\n",
       "      <td>False</td>\n",
       "      <td>True</td>\n",
       "      <td>False</td>\n",
       "    </tr>\n",
       "    <tr>\n",
       "      <th>4</th>\n",
       "      <td>Person_4</td>\n",
       "      <td>-0.179230</td>\n",
       "      <td>0.416619</td>\n",
       "      <td>-0.500648</td>\n",
       "      <td>3.0</td>\n",
       "      <td>0.5</td>\n",
       "      <td>1</td>\n",
       "      <td>False</td>\n",
       "      <td>False</td>\n",
       "      <td>True</td>\n",
       "      <td>False</td>\n",
       "      <td>True</td>\n",
       "      <td>False</td>\n",
       "      <td>False</td>\n",
       "      <td>False</td>\n",
       "      <td>False</td>\n",
       "    </tr>\n",
       "  </tbody>\n",
       "</table>\n",
       "</div>"
      ],
      "text/plain": [
       "       Name       Age  Experience    Salary  EducationLevel  PerformanceScore  \\\n",
       "0  Person_0  0.755541   -0.110843 -1.726778             1.0               1.0   \n",
       "1  Person_1 -0.063984    1.471543  0.421008             0.0               0.0   \n",
       "2  Person_2  0.947617   -1.693230 -0.239172             0.0               0.5   \n",
       "3  Person_3  2.061659   -0.989947  0.150867             1.0               1.0   \n",
       "4  Person_4 -0.179230    0.416619 -0.500648             3.0               0.5   \n",
       "\n",
       "   Promoted  Gender_Male  JobRole_Clerk  JobRole_Engineer  JobRole_Manager  \\\n",
       "0         0        False          False              True            False   \n",
       "1         1        False          False             False            False   \n",
       "2         1        False          False             False             True   \n",
       "3         0         True           True             False            False   \n",
       "4         1        False          False              True            False   \n",
       "\n",
       "   Location_Suburban  Location_Urban  Department_HR  Department_IT  \\\n",
       "0              False            True          False          False   \n",
       "1              False            True          False           True   \n",
       "2              False           False          False          False   \n",
       "3              False           False          False           True   \n",
       "4               True           False          False          False   \n",
       "\n",
       "   Department_Marketing  \n",
       "0                 False  \n",
       "1                 False  \n",
       "2                 False  \n",
       "3                 False  \n",
       "4                 False  "
      ]
     },
     "execution_count": 60,
     "metadata": {},
     "output_type": "execute_result"
    }
   ],
   "source": [
    "from sklearn.preprocessing import StandardScaler, RobustScaler\n",
    "\n",
    "Standard = StandardScaler()\n",
    "Robust = RobustScaler()\n",
    "df = df_encoded\n",
    "df[['Salary','PerformanceScore']] = Robust.fit_transform(df[['Salary','PerformanceScore']])\n",
    "df[['Age', 'Experience']] = Standard.fit_transform(df[['Age', 'Experience']])\n",
    "df.head()"
   ]
  },
  {
   "cell_type": "markdown",
   "id": "6c2ef0a6-3ba3-4a71-9f43-fc0090b92bb4",
   "metadata": {},
   "source": [
    "### Train test split"
   ]
  },
  {
   "cell_type": "code",
   "execution_count": 62,
   "id": "1058a405-31eb-436d-99ac-4348fc4c886d",
   "metadata": {},
   "outputs": [],
   "source": [
    "\n",
    "from sklearn.model_selection import train_test_split\n",
    "\n",
    "X = df.drop(columns=['Name','Promoted'])\n",
    "y = df['Promoted']\n",
    "\n",
    "X_train, X_test, y_train, y_test = train_test_split(X, y,random_state=42, test_size=0.25)"
   ]
  },
  {
   "cell_type": "code",
   "execution_count": 63,
   "id": "b995f462-ec4e-4a02-bee7-f402c6520b19",
   "metadata": {},
   "outputs": [
    {
     "name": "stdout",
     "output_type": "stream",
     "text": [
      "Accuracy:  0.7285714285714285\n"
     ]
    }
   ],
   "source": [
    "from sklearn.linear_model import LogisticRegression\n",
    "from sklearn.metrics import accuracy_score, confusion_matrix, classification_report\n",
    "\n",
    "model = LogisticRegression()\n",
    "model.fit(X_train, y_train)\n",
    "y_pred = model.predict(X_test)\n",
    "accuracy = accuracy_score(y_pred, y_test)\n",
    "print(\"Accuracy: \", accuracy)"
   ]
  },
  {
   "cell_type": "code",
   "execution_count": 64,
   "id": "9ceccadf-87a3-4f01-badf-d264c957c32c",
   "metadata": {},
   "outputs": [
    {
     "name": "stdout",
     "output_type": "stream",
     "text": [
      "Accuracy:  0.7571428571428571\n"
     ]
    }
   ],
   "source": [
    "from sklearn.tree import DecisionTreeClassifier\n",
    "\n",
    "model = DecisionTreeClassifier()\n",
    "model.fit(X_train, y_train)\n",
    "y_pred = model.predict(X_test)\n",
    "accuracy = accuracy_score(y_pred, y_test)\n",
    "print(\"Accuracy: \", accuracy)"
   ]
  },
  {
   "cell_type": "code",
   "execution_count": 65,
   "id": "5a677a5d-7b51-40b0-9dff-3fdf1877bdc4",
   "metadata": {},
   "outputs": [
    {
     "name": "stdout",
     "output_type": "stream",
     "text": [
      "Accuracy:  0.4857142857142857\n"
     ]
    }
   ],
   "source": [
    "from sklearn.svm import SVC\n",
    "\n",
    "model = SVC()\n",
    "model.fit(X_train, y_train)\n",
    "y_pred = model.predict(X_test)\n",
    "accuracy = accuracy_score(y_pred, y_test)\n",
    "print(\"Accuracy: \", accuracy)"
   ]
  },
  {
   "cell_type": "code",
   "execution_count": 66,
   "id": "b067c520-45e7-4082-9dd0-bfc1acfce821",
   "metadata": {},
   "outputs": [
    {
     "name": "stdout",
     "output_type": "stream",
     "text": [
      "Accuracy:  0.8857142857142857\n"
     ]
    }
   ],
   "source": [
    "from sklearn.ensemble import RandomForestClassifier\n",
    "\n",
    "model = RandomForestClassifier()\n",
    "model.fit(X_train, y_train)\n",
    "y_pred = model.predict(X_test)\n",
    "accuracy = accuracy_score(y_pred, y_test)\n",
    "print(\"Accuracy: \", accuracy)"
   ]
  },
  {
   "cell_type": "code",
   "execution_count": 67,
   "id": "ad577ef4-1444-493e-9d15-6615228bbcb9",
   "metadata": {},
   "outputs": [
    {
     "name": "stdout",
     "output_type": "stream",
     "text": [
      "Accuracy:  0.45714285714285713\n"
     ]
    }
   ],
   "source": [
    "from sklearn.ensemble import AdaBoostClassifier\n",
    "\n",
    "model = AdaBoostClassifier()\n",
    "model.fit(X_train, y_train)\n",
    "y_pred = model.predict(X_test)\n",
    "accuracy = accuracy_score(y_pred, y_test)\n",
    "print(\"Accuracy: \", accuracy)"
   ]
  },
  {
   "cell_type": "code",
   "execution_count": 68,
   "id": "0a759366-19ea-4148-af58-355d85e4aaa9",
   "metadata": {},
   "outputs": [
    {
     "name": "stdout",
     "output_type": "stream",
     "text": [
      "Accuracy:  0.45714285714285713\n"
     ]
    }
   ],
   "source": [
    "from sklearn.ensemble import BaggingClassifier\n",
    "\n",
    "model = BaggingClassifier()\n",
    "model.fit(X_train, y_train)\n",
    "y_pred = model.predict(X_test)\n",
    "accuracy = accuracy_score(y_pred, y_test)\n",
    "print(\"Accuracy: \", accuracy)"
   ]
  },
  {
   "cell_type": "code",
   "execution_count": 69,
   "id": "6a094097-0783-4442-9d05-162ed19b085f",
   "metadata": {},
   "outputs": [
    {
     "name": "stdout",
     "output_type": "stream",
     "text": [
      "Accuracy:  0.5142857142857142\n"
     ]
    }
   ],
   "source": [
    "from sklearn.ensemble import GradientBoostingClassifier\n",
    "\n",
    "model = GradientBoostingClassifier()\n",
    "model.fit(X_train, y_train)\n",
    "y_pred = model.predict(X_test)\n",
    "accuracy = accuracy_score(y_pred, y_test)\n",
    "print(\"Accuracy: \", accuracy)"
   ]
  },
  {
   "cell_type": "code",
   "execution_count": 70,
   "id": "2e5f1ea5-6c2a-47a6-b0b9-a3b2713b2859",
   "metadata": {},
   "outputs": [
    {
     "name": "stdout",
     "output_type": "stream",
     "text": [
      "Accuracy:  0.4857142857142857\n"
     ]
    }
   ],
   "source": [
    "from sklearn.linear_model import LogisticRegressionCV\n",
    "\n",
    "model = LogisticRegressionCV()\n",
    "model.fit(X_train, y_train)\n",
    "y_pred = model.predict(X_test)\n",
    "accuracy = accuracy_score(y_pred, y_test)\n",
    "print(\"Accuracy: \", accuracy)"
   ]
  },
  {
   "cell_type": "code",
   "execution_count": null,
   "id": "003ebe9e-24c3-4e62-8a6e-abeeaf8cb78e",
   "metadata": {},
   "outputs": [],
   "source": []
  }
 ],
 "metadata": {
  "kernelspec": {
   "display_name": "Python 3 (ipykernel)",
   "language": "python",
   "name": "python3"
  },
  "language_info": {
   "codemirror_mode": {
    "name": "ipython",
    "version": 3
   },
   "file_extension": ".py",
   "mimetype": "text/x-python",
   "name": "python",
   "nbconvert_exporter": "python",
   "pygments_lexer": "ipython3",
   "version": "3.11.7"
  }
 },
 "nbformat": 4,
 "nbformat_minor": 5
}
